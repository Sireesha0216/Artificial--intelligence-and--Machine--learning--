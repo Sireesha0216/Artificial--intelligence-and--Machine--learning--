{
  "nbformat": 4,
  "nbformat_minor": 0,
  "metadata": {
    "colab": {
      "provenance": [],
      "authorship_tag": "ABX9TyMS7NX86q0+DTtfXGbtq64L",
      "include_colab_link": true
    },
    "kernelspec": {
      "name": "python3",
      "display_name": "Python 3"
    },
    "language_info": {
      "name": "python"
    }
  },
  "cells": [
    {
      "cell_type": "markdown",
      "metadata": {
        "id": "view-in-github",
        "colab_type": "text"
      },
      "source": [
        "<a href=\"https://colab.research.google.com/github/Sireesha0216/Artificial--intelligence-and--Machine--learning--/blob/main/Assignment1.ipynb\" target=\"_parent\"><img src=\"https://colab.research.google.com/assets/colab-badge.svg\" alt=\"Open In Colab\"/></a>"
      ]
    },
    {
      "cell_type": "markdown",
      "source": [],
      "metadata": {
        "id": "Z62XqbhRyUwR"
      }
    },
    {
      "cell_type": "code",
      "source": [
        "#Task-1 Create two lists and join these two lists"
      ],
      "metadata": {
        "id": "YbSJW89zELjX"
      },
      "execution_count": null,
      "outputs": []
    },
    {
      "cell_type": "code",
      "execution_count": null,
      "metadata": {
        "id": "kwpJelk5r9B7",
        "colab": {
          "base_uri": "https://localhost:8080/"
        },
        "outputId": "d712b482-0ec2-407a-cb91-8fe7dd34b8f8"
      },
      "outputs": [
        {
          "output_type": "stream",
          "name": "stdout",
          "text": [
            "[5, 6, 8, 1, 2, 3]\n"
          ]
        }
      ],
      "source": [
        "\n",
        "list1 = [5, 6, 8] TGT\n",
        "list2 = [1, 2, 3]\n",
        "\n",
        "list3 = list1 + list2\n",
        "print(list3)"
      ]
    },
    {
      "cell_type": "markdown",
      "source": [],
      "metadata": {
        "id": "AgRUppR3xfCy"
      }
    },
    {
      "cell_type": "code",
      "source": [
        "#Task-2 With if Statements find the even number"
      ],
      "metadata": {
        "id": "rNefIzgyE9I_"
      },
      "execution_count": null,
      "outputs": []
    },
    {
      "cell_type": "code",
      "source": [
        "num=int(input(\"enter a number\"))\n",
        "if(num%2==0):\n",
        "   print(\"even number\")\n",
        "else:\n",
        "   print(\"odd number\")"
      ],
      "metadata": {
        "id": "bpyoP1ohOdgw",
        "colab": {
          "base_uri": "https://localhost:8080/"
        },
        "outputId": "581194ca-a74a-4172-c08d-dafa11f6b1bb"
      },
      "execution_count": null,
      "outputs": [
        {
          "output_type": "stream",
          "name": "stdout",
          "text": [
            "enter a number6\n",
            "even number\n"
          ]
        }
      ]
    },
    {
      "cell_type": "code",
      "source": [
        "#Task -3 Create a dictionary with 3keys and 2 values for each key"
      ],
      "metadata": {
        "id": "3SHDsHk7FMff"
      },
      "execution_count": null,
      "outputs": []
    },
    {
      "cell_type": "code",
      "source": [
        "data={1:[1,2],2:[3,4],3:[6,8]}\n",
        "data[3]"
      ],
      "metadata": {
        "id": "S-XCFoS7sD37",
        "colab": {
          "base_uri": "https://localhost:8080/"
        },
        "outputId": "19f48b97-a85c-4b61-cac8-9907395f1f39"
      },
      "execution_count": null,
      "outputs": [
        {
          "output_type": "execute_result",
          "data": {
            "text/plain": [
              "[6, 8]"
            ]
          },
          "metadata": {},
          "execution_count": 3
        }
      ]
    },
    {
      "cell_type": "code",
      "source": [
        "#Task-4 Create a function with if statements which is used to find the odd numbers"
      ],
      "metadata": {
        "id": "U5g6d52fFjwc"
      },
      "execution_count": null,
      "outputs": []
    },
    {
      "cell_type": "code",
      "source": [
        "num = int(input(\"enter a number:\"))\n",
        "if(num%2==0):\n",
        "  print(\"It is not an odd number\")\n",
        "else:\n",
        "  print(\"It is an odd number\")"
      ],
      "metadata": {
        "id": "I--k0OrZsxYU",
        "colab": {
          "base_uri": "https://localhost:8080/"
        },
        "outputId": "dea615b9-6baa-4afc-9b8b-f7b496d72701"
      },
      "execution_count": null,
      "outputs": [
        {
          "output_type": "stream",
          "name": "stdout",
          "text": [
            "enter a number:6\n",
            "It is not an odd number\n"
          ]
        }
      ]
    },
    {
      "cell_type": "code",
      "source": [
        "#Task-5 Write a function to sum all the numbers in a list"
      ],
      "metadata": {
        "id": "Y4d55gVuGFsG"
      },
      "execution_count": null,
      "outputs": []
    },
    {
      "cell_type": "code",
      "source": [
        "data=[8,2,3,0,7]\n",
        "sum(data)"
      ],
      "metadata": {
        "id": "SaO9kN-Pux_r",
        "colab": {
          "base_uri": "https://localhost:8080/"
        },
        "outputId": "a7cb23c2-0864-40db-e001-63851ea8f52f"
      },
      "execution_count": null,
      "outputs": [
        {
          "output_type": "execute_result",
          "data": {
            "text/plain": [
              "20"
            ]
          },
          "metadata": {},
          "execution_count": 4
        }
      ]
    }
  ]
}